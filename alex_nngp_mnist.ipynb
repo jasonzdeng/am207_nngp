{
 "cells": [
  {
   "cell_type": "code",
   "execution_count": 1,
   "metadata": {},
   "outputs": [
    {
     "name": "stdout",
     "output_type": "stream",
     "text": [
      "1.5.0\n"
     ]
    }
   ],
   "source": [
    "import sys \n",
    "sys.path.append('nngp')\n",
    "\n",
    "import numpy as np\n",
    "import tensorflow as tf\n",
    "\n",
    "from sklearn.datasets import fetch_mldata\n",
    "from sklearn.model_selection import train_test_split\n",
    "from sklearn.preprocessing import LabelBinarizer \n",
    "from sklearn.metrics import mean_squared_error\n",
    "\n",
    "from nngp.nngp import NNGPKernel\n",
    "from nngp.gpr import GaussianProcessRegression\n",
    "\n",
    "print(tf.__version__)"
   ]
  },
  {
   "cell_type": "code",
   "execution_count": 2,
   "metadata": {},
   "outputs": [
    {
     "data": {
      "text/plain": [
       "'mldata.org dataset: mnist-original'"
      ]
     },
     "execution_count": 2,
     "metadata": {},
     "output_type": "execute_result"
    }
   ],
   "source": [
    "mnist = fetch_mldata('MNIST original', data_home='mnist')\n",
    "mnist.DESCR"
   ]
  },
  {
   "cell_type": "code",
   "execution_count": 3,
   "metadata": {
    "collapsed": true
   },
   "outputs": [],
   "source": [
    "lb = LabelBinarizer()\n",
    "lb.fit(mnist.target)\n",
    "# encode target labels as zero-mean one hot encoded vector \n",
    "# with negative class = -0.1 and positive class as 0.9\n",
    "encode = lambda y: lb.transform(y) - .1"
   ]
  },
  {
   "cell_type": "code",
   "execution_count": 4,
   "metadata": {
    "collapsed": true
   },
   "outputs": [],
   "source": [
    "image_train, image_test, label_train, label_test = train_test_split(\n",
    "    mnist.data, mnist.target, stratify = mnist.target, random_state = 444, test_size=.15)\n",
    "\n",
    "X_test = image_test\n",
    "y_test = encode(label_test)"
   ]
  },
  {
   "cell_type": "code",
   "execution_count": 5,
   "metadata": {
    "collapsed": true
   },
   "outputs": [],
   "source": [
    "def get_train_subset(n):\n",
    "    x, _, y, _ = train_test_split(image_train, label_train, stratify = label_train, random_state=333, train_size = n)\n",
    "    return x, encode(y)"
   ]
  },
  {
   "cell_type": "code",
   "execution_count": 6,
   "metadata": {
    "collapsed": true
   },
   "outputs": [],
   "source": [
    "def train_or_load_model(sample_size):\n",
    "    grid_path = 'grids/mnist_s%d' % sample_size\n",
    "    nngp_kernel = NNGPKernel(\n",
    "        depth = 8,\n",
    "        weight_var=1.79,\n",
    "        bias_var=0.83,\n",
    "        nonlin_fn= tf.tanh,\n",
    "        grid_path = grid_path,\n",
    "        use_precomputed_grid = True,\n",
    "        n_gauss=301,\n",
    "        n_var=301,\n",
    "        n_corr=301,\n",
    "        max_gauss=10,\n",
    "        max_var=100,\n",
    "        use_fixed_point_norm=False)\n",
    "    X_train, y_train = get_train_subset(sample_size)\n",
    "    return GaussianProcessRegression(X_train, y_train, kern=nngp_kernel)"
   ]
  },
  {
   "cell_type": "code",
   "execution_count": null,
   "metadata": {
    "collapsed": true
   },
   "outputs": [],
   "source": [
    "def accuracy(y, y_hat):\n",
    "    return np.mean(np.argmax(y, axis = 1) == np.argmax(y_hat, axis = 1))"
   ]
  },
  {
   "cell_type": "code",
   "execution_count": null,
   "metadata": {},
   "outputs": [
    {
     "name": "stdout",
     "output_type": "stream",
     "text": [
      "INFO:tensorflow:Generating interpolation grid...\n"
     ]
    }
   ],
   "source": [
    "sample_sizes = np.array([1000, 5000, 10000, 25000, 50000])\n",
    "nngp_results = np.empty((sample_sizes.shape[0], 2))\n",
    "\n",
    "for i, sample_size in enumerate(sample_sizes):\n",
    "    with tf.Session() as sess:\n",
    "        m = train_or_load_model(sample_size = sample_size)\n",
    "        y_hat, _ = m.predict(X_test, sess)\n",
    "        nngp_results[i, 0] = accuracy(y_test, y_hat)  \n",
    "        nngp_results[i, 1] = mean_squared_error(y_test, y_hat)\n",
    "        print('done sample size %d' % (sample_size))\n",
    "        print('accuarcy %.3f mean squared error %.3f' % (nngp_results[i, 0], nngp_results[i, 1]))"
   ]
  },
  {
   "cell_type": "code",
   "execution_count": null,
   "metadata": {
    "collapsed": true
   },
   "outputs": [],
   "source": []
  }
 ],
 "metadata": {
  "kernelspec": {
   "display_name": "Python [default]",
   "language": "python",
   "name": "python3"
  },
  "language_info": {
   "codemirror_mode": {
    "name": "ipython",
    "version": 3
   },
   "file_extension": ".py",
   "mimetype": "text/x-python",
   "name": "python",
   "nbconvert_exporter": "python",
   "pygments_lexer": "ipython3",
   "version": "3.6.3"
  }
 },
 "nbformat": 4,
 "nbformat_minor": 2
}
