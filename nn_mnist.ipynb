{
 "cells": [
  {
   "cell_type": "code",
   "execution_count": 1,
   "metadata": {},
   "outputs": [],
   "source": [
    "import numpy as np\n",
    "\n",
    "import torch\n",
    "from torch import nn\n",
    "from torch.autograd import Variable\n",
    "import torch.utils.data\n",
    "import torch.nn.functional\n",
    "\n",
    "from sklearn.datasets import fetch_mldata\n",
    "from sklearn.model_selection import train_test_split\n",
    "from sklearn.preprocessing import LabelBinarizer \n",
    "from sklearn.metrics import mean_squared_error\n",
    "from sklearn.metrics import r2_score\n",
    "\n",
    "from matplotlib import cm\n",
    "import matplotlib.pyplot as plt\n",
    "\n",
    "%matplotlib inline"
   ]
  },
  {
   "cell_type": "code",
   "execution_count": 2,
   "metadata": {
    "collapsed": true
   },
   "outputs": [],
   "source": [
    "class Model(torch.nn.Module):\n",
    "    def __init__(self, input_dim, output_dim, hidden_layers = 1, hidden_dim = 32):\n",
    "        super(Model, self).__init__()\n",
    "        self.linear_input = torch.nn.Linear(input_dim, hidden_dim)\n",
    "        self.hidden_layers = torch.nn.ModuleList()\n",
    "        self.num_hidden_layers = hidden_layers\n",
    "        for i in range(hidden_layers):\n",
    "            self.hidden_layers.append(torch.nn.Linear(hidden_dim, hidden_dim))\n",
    "        self.linear_output = torch.nn.Linear(hidden_dim, output_dim)\n",
    "\n",
    "    def forward(self, x):\n",
    "        x = self.linear_input(x)\n",
    "        x = torch.nn.functional.tanh(x)\n",
    "        for i in range(self.num_hidden_layers):\n",
    "            x = self.hidden_layers[i](x)\n",
    "            x = torch.nn.functional.tanh(x)\n",
    "        x = self.linear_output(x)\n",
    "        y_pred = x\n",
    "        return y_pred\n",
    "\n",
    "\n",
    "class NNR:\n",
    "    def __init__(self, input_dim, output_dim, hidden_dim=25, hidden_layers=1):\n",
    "        self._model = Model(input_dim, output_dim, hidden_layers=hidden_layers, hidden_dim=hidden_dim)\n",
    "        self._criterion = nn.MSELoss(size_average = False)\n",
    "        self._fit_params = dict(lr=0.001, epochs=100, batch_size=256)\n",
    "        self._optimizer = torch.optim.SGD(self._model.parameters(), lr=self._fit_params['lr'])\n",
    "        self._losses = None\n",
    "        self._accuracy = None\n",
    "\n",
    "    def __repr__(self):\n",
    "        num = 0\n",
    "        for k, p in self._model.named_parameters():\n",
    "            numlist = list(p.data.numpy().shape)\n",
    "            if len(numlist) == 2:\n",
    "                num += numlist[0] * numlist[1]\n",
    "            else:\n",
    "                num += numlist[0]\n",
    "        return repr(self._model) + \"\\n\" + repr(self._fit_params) + \"\\nNum Params: {}\".format(num)\n",
    "\n",
    "    def fit(self, X, y):\n",
    "        # our loss function is cross entropy loss\n",
    "        # criterion = torch.nn.CrossEntropyLoss(size_average=True)\n",
    "        # we are optimizing with SGD with a learning rate of 0.01\n",
    "        # optimizer = torch.optim.SGD(model.parameters(), lr=0.1, weight_decay=0.1)\n",
    "\n",
    "        train_dataset = torch.utils.data.TensorDataset(torch.from_numpy(X), torch.from_numpy(y))\n",
    "        train_loader = torch.utils.data.DataLoader(train_dataset, batch_size=self._fit_params['batch_size'])\n",
    "\n",
    "        losses = []  # where we'll be storing loss calculations\n",
    "        batches = 0  # where we'll count the total number of batches\n",
    "        accuracy = []  # keep track of validation accuracy\n",
    "\n",
    "        # Training loop\n",
    "        for epoch in range(self._fit_params['epochs']):\n",
    "            for i, data in enumerate(train_loader, 0):\n",
    "                # Forward pass: Compute predicted y by passing x to the model\n",
    "                predictors, labels = data\n",
    "                predictors, labels = Variable(predictors.float()), Variable(labels.float())\n",
    "\n",
    "                pred = self._model.forward(predictors)\n",
    "\n",
    "                # Compute and store, print loss every 100 cycles\n",
    "                loss = self._criterion(pred, labels)\n",
    "                if i % 100 == 0:\n",
    "                    # print(epoch, i, loss.data[0])\n",
    "                    losses.append([batches, loss.data[0]])\n",
    "                    batches += 100\n",
    "\n",
    "                # Zero gradients, perform a backward pass, and update the weights.\n",
    "                self._optimizer.zero_grad()\n",
    "                loss.backward()\n",
    "                self._optimizer.step()\n",
    "            accuracy.append([epoch, self.accuracy(y, self.predict(X))])\n",
    "\n",
    "        # save losses and accuracy as model trains\n",
    "        self._losses = np.array(losses).T\n",
    "        self._accuracy = np.array(accuracy).T\n",
    "\n",
    "    def set_fit_params(self, *, lr=0.001, epochs=50, batch_size=512, l2_weight=0):\n",
    "        self._fit_params['batch_size'] = batch_size\n",
    "        self._fit_params['epochs'] = epochs\n",
    "        self._fit_params['lr'] = lr\n",
    "        self._fit_params['l2_weight'] = l2_weight\n",
    "        self._optimizer = torch.optim.SGD(\n",
    "            self._model.parameters(), lr=self._fit_params['lr'], weight_decay=self._fit_params['l2_weight'])\n",
    "\n",
    "    def predict(self, X):\n",
    "        X = Variable(torch.from_numpy(X).float())\n",
    "        pred = self._model.forward(X)\n",
    "        return pred.data.numpy()\n",
    "\n",
    "    def accuracy(self, y, y_hat):\n",
    "        return np.mean(np.argmax(y, axis = 1) == np.argmax(y_hat, axis = 1))\n",
    "\n",
    "    def mean_squared_error(self, y, y_hat):\n",
    "        return mean_squared_error(y, y_hat)\n",
    "\n",
    "    def r2_score(self, y, y_hat):\n",
    "        return r2_score(y, y_hat)"
   ]
  },
  {
   "cell_type": "code",
   "execution_count": 3,
   "metadata": {},
   "outputs": [
    {
     "data": {
      "text/plain": [
       "'mldata.org dataset: mnist-original'"
      ]
     },
     "execution_count": 3,
     "metadata": {},
     "output_type": "execute_result"
    }
   ],
   "source": [
    "mnist = fetch_mldata('MNIST original', data_home='mnist')\n",
    "mnist.DESCR"
   ]
  },
  {
   "cell_type": "code",
   "execution_count": 4,
   "metadata": {},
   "outputs": [
    {
     "data": {
      "text/plain": [
       "<matplotlib.image.AxesImage at 0x25b90e28898>"
      ]
     },
     "execution_count": 4,
     "metadata": {},
     "output_type": "execute_result"
    },
    {
     "data": {
      "image/png": "[encoded data removed]",
      "text/plain": [
       "<matplotlib.figure.Figure at 0x25b8d948c50>"
      ]
     },
     "metadata": {},
     "output_type": "display_data"
    }
   ],
   "source": [
    "plt.imshow(mnist.data[np.random.choice(mnist.data.shape[0])].reshape((28, 28)))"
   ]
  },
  {
   "cell_type": "code",
   "execution_count": 5,
   "metadata": {
    "collapsed": true
   },
   "outputs": [],
   "source": [
    "lb = LabelBinarizer()\n",
    "lb.fit(mnist.target)\n",
    "# encode target labels as zero-mean one hot encoded vector \n",
    "# with negative class = -0.1 and positive class as 0.9\n",
    "encode = lambda y: lb.transform(y) - .1"
   ]
  },
  {
   "cell_type": "code",
   "execution_count": 6,
   "metadata": {},
   "outputs": [
    {
     "data": {
      "text/plain": [
       "array([[-0.1, -0.1, -0.1, -0.1, -0.1,  0.9, -0.1, -0.1, -0.1, -0.1]])"
      ]
     },
     "execution_count": 6,
     "metadata": {},
     "output_type": "execute_result"
    }
   ],
   "source": [
    "encode([5])"
   ]
  },
  {
   "cell_type": "code",
   "execution_count": 7,
   "metadata": {
    "collapsed": true
   },
   "outputs": [],
   "source": [
    "image_train, image_test, label_train, label_test = train_test_split(\n",
    "    mnist.data, mnist.target, stratify = mnist.target, random_state = 444, test_size=.15)\n",
    "\n",
    "X_test = image_test\n",
    "y_test = encode(label_test)"
   ]
  },
  {
   "cell_type": "code",
   "execution_count": 8,
   "metadata": {},
   "outputs": [],
   "source": [
    "def get_train_subset(n):\n",
    "    x, _, y, _ = train_test_split(image_train, label_train, stratify = label_train, random_state=333, train_size = n)\n",
    "    return x, encode(y)\n",
    "\n",
    "def do_experiment(nn_width, samle_size):\n",
    "    X_train, y_train = get_train_subset(samle_size)\n",
    "    nnr = NNR(784, 10, hidden_dim = 256, hidden_layers = nn_width)\n",
    "    nnr.fit(X_train, y_train)\n",
    "    y_hat = nnr.predict(X_test)\n",
    "    return nnr.accuracy(y_test, y_hat), nnr.mean_squared_error(y_test, y_hat)"
   ]
  },
  {
   "cell_type": "code",
   "execution_count": 9,
   "metadata": {},
   "outputs": [
    {
     "name": "stderr",
     "output_type": "stream",
     "text": [
      "C:\\Anaconda\\lib\\site-packages\\sklearn\\model_selection\\_split.py:2026: FutureWarning: From version 0.21, test_size will always complement train_size unless both are specified.\n",
      "  FutureWarning)\n",
      "C:\\Anaconda\\lib\\site-packages\\ipykernel\\__main__.py:67: UserWarning: invalid index of a 0-dim tensor. This will be an error in PyTorch 0.5. Use tensor.item() to convert a 0-dim tensor to a Python number\n"
     ]
    }
   ],
   "source": [
    "sample_sizes = np.array([1000, 5000, 20000, 50000])\n",
    "results = np.empty((sample_sizes.shape[0], 2))\n",
    "\n",
    "for i, sample_size in enumerate(sample_sizes):\n",
    "    results[i, 0],  results[i, 1] = do_experiment(nn_width = 16, samle_size = sample_size)"
   ]
  },
  {
   "cell_type": "code",
   "execution_count": 18,
   "metadata": {},
   "outputs": [
    {
     "data": {
      "image/png": "[encoded data removed]",
      "text/plain": [
       "<matplotlib.figure.Figure at 0x25ba391e7b8>"
      ]
     },
     "metadata": {},
     "output_type": "display_data"
    }
   ],
   "source": [
    "plt.figure(figsize = (14, 5))\n",
    "plt.subplot(121)\n",
    "plt.plot(sample_sizes, results[:, 0])\n",
    "plt.xlabel('sample size')\n",
    "_ = plt.ylabel('accuracy')\n",
    "plt.subplot(122)\n",
    "plt.plot(sample_sizes, results[:, 1])\n",
    "plt.xlabel('sample size')\n",
    "_ = plt.ylabel('mse')"
   ]
  },
  {
   "cell_type": "code",
   "execution_count": null,
   "metadata": {
    "collapsed": true
   },
   "outputs": [],
   "source": []
  }
 ],
 "metadata": {
  "kernelspec": {
   "display_name": "Python [conda env:Anaconda]",
   "language": "python",
   "name": "conda-env-Anaconda-py"
  },
  "language_info": {
   "codemirror_mode": {
    "name": "ipython",
    "version": 3
   },
   "file_extension": ".py",
   "mimetype": "text/x-python",
   "name": "python",
   "nbconvert_exporter": "python",
   "pygments_lexer": "ipython3",
   "version": "3.6.3"
  }
 },
 "nbformat": 4,
 "nbformat_minor": 2
}
