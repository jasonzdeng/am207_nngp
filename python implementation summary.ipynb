{
 "cells": [
  {
   "cell_type": "markdown",
   "metadata": {},
   "source": [
    "In a nutshell, this notebook implemented a Gaussian process regression with a NNGP kernel to return predicted Y_test given X_test. The followings are to explain how the implementation allows the computation of the GP regression and the kernel, in a reverse-engineering perspective.\n",
    "\n",
    "First of all, the Gaussian Process regression model was based on GPflow, and it is to estimate a GP $p(y^* | x, y, x^*) \\sim N(\\bar{\\mu},\\bar{K})$ according to the equation (ref.4):\n",
    "\n",
    "$$\n",
    "\\bar{\\mu} = K^L_{x^*, D} (K^L_{D, D} + \\sigma^2 \\mathbb{I}_n)^{-1} t \n",
    "$$\n",
    "and \n",
    "$$\n",
    "\\bar{K}=K^L_{x^*,x^*} - K^L_{x^*,D}(K^L_{D, D} + \\sigma^2 \\mathbb{I}_n)^{-1} K^{L,T}_{x^*, D} \n",
    "$$\n",
    "\n",
    "where $\\bar{\\mu}$ is the mean of predicted Y, $\\bar{K}$ represents the variance of the prediction. The model computes the Cholesky decompositionthe of $K^L$ as part of the algorithm for finding $\\bar{\\mu}$ and $\\bar{K}$, using the functions defined under the class GaussianProcessRegression.\n",
    "\n",
    "\n",
    "Next, in order to get the $K^L$ for the model, a NNGP kernel was implemented. The key function under the class NNGPKernel is k_full(). It first computes $K^l$ that is the covariance of post-activation at given pre-activation variance and correlation. It then returns a fully stacked $K^L$ over all the layers in the neural network. The implementation was based on the euqation (ref.2):\n",
    "\n",
    "$$\n",
    "K^l(x,x') = \\sigma^2_b + \\sigma^2_w \\mathbb{E}_{z^{l-1}_i \\sim GP(0, K^{l-1})}[\\phi(z^{l-1}_i (x))\\phi(z^{l-1}_i (x')]\n",
    "$$\n",
    "\n",
    "where the expectation of $z_i^{(l-1)}$ was computed via linear interpolation in the NNGP grid using the interp functions. \n",
    "\n",
    "To describe the implementation of k_full() in peudocodes.\n",
    "\n",
    "k_full (): \n",
    "    \n",
    "    Normalize input to unit variance or to fixed point variance\n",
    "    \n",
    "    For each hidden layer l:\n",
    "        q_ab = interp.interp_lin_2d(...) \n",
    "        q_ab = self.weight_var * q_ab + self.bias_var\n",
    "        \n",
    "    q_ab_all = parallelly_stack(q_ab) \n",
    "    \n",
    "    return q_ab_all \n",
    "\n",
    "\n",
    "\n",
    "In addition, the following tensorboard graph captures the workflow of k_full() .\n",
    "<img src=\"kfull.png\">\n",
    "\n",
    "\n",
    "The following tensorboard graph captures the workflow of  the Gaussian process regression.\n",
    "<img src=\"GPR.png\">"
   ]
  },
  {
   "cell_type": "code",
   "execution_count": null,
   "metadata": {},
   "outputs": [],
   "source": []
  }
 ],
 "metadata": {
  "kernelspec": {
   "display_name": "Python 3",
   "language": "python",
   "name": "python3"
  },
  "language_info": {
   "codemirror_mode": {
    "name": "ipython",
    "version": 3
   },
   "file_extension": ".py",
   "mimetype": "text/x-python",
   "name": "python",
   "nbconvert_exporter": "python",
   "pygments_lexer": "ipython3",
   "version": "3.6.4"
  }
 },
 "nbformat": 4,
 "nbformat_minor": 2
}
